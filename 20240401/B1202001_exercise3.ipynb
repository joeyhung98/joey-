{
  "nbformat": 4,
  "nbformat_minor": 0,
  "metadata": {
    "colab": {
      "provenance": []
    },
    "kernelspec": {
      "name": "python3",
      "display_name": "Python 3"
    },
    "language_info": {
      "name": "python"
    }
  },
  "cells": [
    {
      "cell_type": "code",
      "execution_count": 9,
      "metadata": {
        "colab": {
          "base_uri": "https://localhost:8080/"
        },
        "id": "QXSsz4YprPJX",
        "outputId": "7687f52b-1141-47b8-f0ec-78f83cc9b467"
      },
      "outputs": [
        {
          "output_type": "stream",
          "name": "stdout",
          "text": [
            "平均分數 88.33333333333333\n",
            "{'姓名': '賴宏偉', '性別': '男', '學號': 'M1129020'}\n",
            "平均分數 95.0\n",
            "{'姓名': '許珈綺', '性別': '女', '學號': 'M1229001'}\n"
          ]
        }
      ],
      "source": [
        "a=dict(姓名='賴宏偉',性別='男',score=[95,100,90])\n",
        "b=dict(學號='M1129020')\n",
        "c={**a,**b}\n",
        "import copy\n",
        "d=copy.deepcopy(c)\n",
        "a['score'][1]=80\n",
        "d['姓名']='許珈綺'\n",
        "d['性別']='女'\n",
        "d['學號']='M1229001'\n",
        "t=c.pop('score')\n",
        "t=t[0]+t[1]+t[2]\n",
        "t/=3\n",
        "print('平均分數',t)\n",
        "print(c)\n",
        "f=d.pop('score')\n",
        "f=f[1]+f[0]+f[2]\n",
        "f/=3\n",
        "print('平均分數',f)\n",
        "print(d)"
      ]
    },
    {
      "cell_type": "code",
      "source": [
        "a=[100,50,45,60,90,80,50]\n",
        "a.insert(0,88)\n",
        "a[2:4]=[70,50]\n",
        "a.remove(50)\n",
        "b=a.pop(0)\n",
        "c=a.pop(-1)\n",
        "d=b+c\n",
        "print(d)"
      ],
      "metadata": {
        "colab": {
          "base_uri": "https://localhost:8080/"
        },
        "id": "bALTEsfsv02a",
        "outputId": "b92f1825-8af6-4d1b-ad00-8921c47a94fd"
      },
      "execution_count": 11,
      "outputs": [
        {
          "output_type": "stream",
          "name": "stdout",
          "text": [
            "138\n"
          ]
        }
      ]
    },
    {
      "cell_type": "code",
      "source": [
        "a=347//3\n",
        "b=347%3\n",
        "c=a**b\n",
        "print(c)"
      ],
      "metadata": {
        "colab": {
          "base_uri": "https://localhost:8080/"
        },
        "id": "F4NrkxNNwfEM",
        "outputId": "e0553a54-db62-4fad-feb7-a57851f3c177"
      },
      "execution_count": 14,
      "outputs": [
        {
          "output_type": "stream",
          "name": "stdout",
          "text": [
            "13225\n"
          ]
        }
      ]
    }
  ]
}