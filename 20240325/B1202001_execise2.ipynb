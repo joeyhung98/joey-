{
  "nbformat": 4,
  "nbformat_minor": 0,
  "metadata": {
    "colab": {
      "provenance": []
    },
    "kernelspec": {
      "name": "python3",
      "display_name": "Python 3"
    },
    "language_info": {
      "name": "python"
    }
  },
  "cells": [
    {
      "cell_type": "code",
      "execution_count": 33,
      "metadata": {
        "colab": {
          "base_uri": "https://localhost:8080/"
        },
        "id": "8ZVkE8E2gg3h",
        "outputId": "2cccd2ad-16f3-4e21-f710-9b9dd3a7c560"
      },
      "outputs": [
        {
          "output_type": "stream",
          "name": "stdout",
          "text": [
            "{'姓名': '賴宏偉', '性別': '男', 'score': [100, 100, 90], '學號': 'M1129020'}\n",
            "96.66666666666667\n"
          ]
        }
      ],
      "source": [
        "a=dict(姓名='賴宏偉',性別='男',score=[80,95,100,90])\n",
        "b=dict(學號='M1129020')\n",
        "a.update(b)\n",
        "a['score'][1]=100\n",
        "del a['score'][0]\n",
        "print(a)\n",
        "c=a.pop('score')\n",
        "d=c[0]+c[1]+c[2]\n",
        "d/=3\n",
        "print(d)"
      ]
    }
  ]
}