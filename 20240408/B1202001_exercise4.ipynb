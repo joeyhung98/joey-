{
  "nbformat": 4,
  "nbformat_minor": 0,
  "metadata": {
    "colab": {
      "provenance": []
    },
    "kernelspec": {
      "name": "python3",
      "display_name": "Python 3"
    },
    "language_info": {
      "name": "python"
    }
  },
  "cells": [
    {
      "cell_type": "code",
      "source": [
        "\n",
        "height = float(input(\"身高（公分）：\"))\n",
        "weight = float(input(\"體重（公斤）：\"))\n",
        "\n",
        "bmi = weight / ( (height/100) ** 2)\n",
        "\n",
        "print(\"BMI：\", bmi)\n",
        "if bmi < 18.5 :\n",
        "   print('過輕')\n",
        "elif 18.5 <=bmi <24 :\n",
        "  print('適中')\n",
        "elif 24.5<=bmi<27 :\n",
        "  print('過重')\n",
        "elif 27<=bmi :\n",
        "  print('肥胖')"
      ],
      "metadata": {
        "colab": {
          "base_uri": "https://localhost:8080/"
        },
        "id": "kkz5A2cAiPre",
        "outputId": "71abafdf-bf5d-4310-9324-30c8d879d890"
      },
      "execution_count": 20,
      "outputs": [
        {
          "output_type": "stream",
          "name": "stdout",
          "text": [
            "身高（公分）：180\n",
            "體重（公斤）：77\n",
            "BMI： 23.76543209876543\n",
            "適中\n"
          ]
        }
      ]
    },
    {
      "cell_type": "code",
      "source": [
        "a=int(input('第一個數字'))\n",
        "b=input('運算符號')\n",
        "c=int(input('第二個數字'))\n",
        "if b=='+' :\n",
        "  d=a+c\n",
        "  print(float(d))\n",
        "elif b=='/' :\n",
        "   d= a / c\n",
        "   print(float(d))\n",
        "elif b=='-' :\n",
        "   d=a-c\n",
        "   print(float(d))\n",
        "elif b=='*' :\n",
        "   d=a*c\n",
        "   print(float(d))"
      ],
      "metadata": {
        "colab": {
          "base_uri": "https://localhost:8080/"
        },
        "id": "hnEo_o8Mo3xl",
        "outputId": "d9da3f2d-5ae7-4daf-c3dd-f9b06d0c52f0"
      },
      "execution_count": 27,
      "outputs": [
        {
          "output_type": "stream",
          "name": "stdout",
          "text": [
            "第一個數字6\n",
            "運算符號*\n",
            "第二個數字87\n",
            "522.0\n"
          ]
        }
      ]
    }
  ]
}