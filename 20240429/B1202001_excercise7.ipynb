{
  "nbformat": 4,
  "nbformat_minor": 0,
  "metadata": {
    "colab": {
      "provenance": []
    },
    "kernelspec": {
      "name": "python3",
      "display_name": "Python 3"
    },
    "language_info": {
      "name": "python"
    }
  },
  "cells": [
    {
      "cell_type": "markdown",
      "source": [],
      "metadata": {
        "id": "jzgjcfHVw-JU"
      }
    },
    {
      "cell_type": "code",
      "source": [
        "def 聖誕樹(a):\n",
        "\n",
        "    for i in range(1, a + 1):\n",
        "        print(\" \" * (a - i) + \"*\" * (2 * i - 1))\n",
        "\n",
        "\n",
        "    b = 3\n",
        "    c = (2 * a - b) // 2\n",
        "    d = 5\n",
        "    for _ in range(d):\n",
        "        print(\" \" * c + \"*\" * b)\n",
        "\n",
        "\n",
        "while True:\n",
        "    a = int(input(\"輸入聖誕樹的高度：\"))\n",
        "    if a >= 7:\n",
        "        break\n",
        "    else:\n",
        "        print(\"高度至少要大於7層，重新輸入。\")\n",
        "\n",
        "聖誕樹(a)\n"
      ],
      "metadata": {
        "colab": {
          "base_uri": "https://localhost:8080/"
        },
        "id": "Ut13Y2Zi2WZi",
        "outputId": "3680aacc-87a1-432f-948f-6a9a1dd45c66"
      },
      "execution_count": null,
      "outputs": [
        {
          "output_type": "stream",
          "name": "stdout",
          "text": [
            "輸入聖誕樹的高度：5\n",
            "高度至少要大於7層，重新輸入。\n",
            "輸入聖誕樹的高度：10\n",
            "         *\n",
            "        ***\n",
            "       *****\n",
            "      *******\n",
            "     *********\n",
            "    ***********\n",
            "   *************\n",
            "  ***************\n",
            " *****************\n",
            "*******************\n",
            "        ***\n",
            "        ***\n",
            "        ***\n",
            "        ***\n",
            "        ***\n"
          ]
        }
      ]
    },
    {
      "cell_type": "code",
      "source": [
        "height=input('輸入身高（公分）')\n",
        "weight=input('輸入體重（公斤）')\n",
        "\n",
        "def BMI(height,weight):\n",
        "  BMI=weight/height**2\n",
        "  if BMI<18.5:\n",
        "    ans='過輕'\n",
        "  elif BMI<24 and BMI>=18.5:\n",
        "    ans='適中'\n",
        "  elif BMI>=24 and BMI<27:\n",
        "    ans='過重'\n",
        "  else:\n",
        "    ans='肥胖'\n",
        "  return BMI, ans\n",
        "\n",
        "try:\n",
        "  height=float(height)\n",
        "  weight=float(weight)\n",
        "  height/=100\n",
        "  BMI, ans=BMI(height,weight)\n",
        "  print(f'BMI:{BMI}')\n",
        "  print(f'體位:{ans}')\n",
        "except:\n",
        "  print('輸入錯誤')\n",
        ""
      ],
      "metadata": {
        "id": "QXkzWHzV-CYm",
        "colab": {
          "base_uri": "https://localhost:8080/"
        },
        "outputId": "3acf35ac-6e4e-4dbd-cf75-7966a9562be5"
      },
      "execution_count": 2,
      "outputs": [
        {
          "output_type": "stream",
          "name": "stdout",
          "text": [
            "輸入身高（公分）180\n",
            "輸入體重（公斤）75\n",
            "BMI:23.148148148148145\n",
            "體位:適中\n"
          ]
        }
      ]
    }
  ]
}